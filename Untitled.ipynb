{
 "cells": [
  {
   "cell_type": "code",
   "execution_count": 1,
   "metadata": {},
   "outputs": [
    {
     "name": "stdout",
     "output_type": "stream",
     "text": [
      "indx  0\n",
      "corners  54\n",
      "indx  1\n",
      "corners  54\n",
      "indx  2\n",
      "corners  54\n",
      "indx  3\n",
      "corners  54\n",
      "indx  4\n",
      "corners  54\n",
      "indx  5\n",
      "corners  54\n",
      "indx  6\n",
      "corners  54\n",
      "indx  7\n",
      "corners  54\n",
      "indx  8\n",
      "corners  54\n",
      "indx  9\n",
      "corners  54\n",
      "indx  10\n",
      "corners  54\n",
      "indx  11\n",
      "corners  54\n",
      "indx  12\n",
      "corners  54\n",
      "indx  13\n",
      "corners  54\n",
      "indx  14\n",
      "corners  54\n",
      "indx  15\n",
      "corners  54\n",
      "indx  16\n",
      "corners  54\n",
      "indx  17\n",
      "corners  54\n",
      "indx  18\n",
      "corners  54\n",
      "indx  19\n",
      "corners  54\n",
      "indx  20\n",
      "corners  54\n"
     ]
    }
   ],
   "source": [
    "import numpy as np\n",
    "import pandas as pd\n",
    "import cv2\n",
    "import os\n",
    "import glob\n",
    "import matplotlib.pyplot as plt\n",
    "import pickle\n",
    "\n",
    "\n",
    "def undistort_img():\n",
    "    # Prepare object points 0,0,0 ... 8,5,0\n",
    "    obj_pts = np.zeros((6*9,3), np.float32)\n",
    "    obj_pts[:,:2] = np.mgrid[0:9, 0:6].T.reshape(-1,2)\n",
    "    # Stores all object points & img points from all images\n",
    "    objpoints = []\n",
    "    imgpoints = []\n",
    "    # Get directory for all calibration images\n",
    "    images = glob.glob('camera_cal/*.jpg')\n",
    "    for indx, fname in enumerate(images):\n",
    "        img = cv2.imread(fname)\n",
    "        gray = cv2.cvtColor(img, cv2.COLOR_BGR2GRAY)\n",
    "        ret, corners = cv2.findChessboardCorners(gray, (9,6), None)\n",
    "        if ret == True:\n",
    "            print('indx ', indx)\n",
    "            print('corners ', len(corners))\n",
    "            objpoints.append(obj_pts)\n",
    "            imgpoints.append(corners)\n",
    "    # Test undistortion on img\n",
    "    img_size = (img.shape[1], img.shape[0])\n",
    "    # Calibrate camera\n",
    "    ret, mtx, dist, rvecs, tvecs = cv2.calibrateCamera(objpoints, imgpoints, img_size, None,None)\n",
    "    dst = cv2.undistort(img, mtx, dist, None, mtx)\n",
    "    # Save camera calibration for later use\n",
    "    dist_pickle = {}\n",
    "    dist_pickle['mtx'] = mtx\n",
    "    dist_pickle['dist'] = dist\n",
    "    pickle.dump( dist_pickle, open('camera_cal/cal_pickle.p', 'wb') )\n",
    "def undistort(img, cal_dir='camera_cal/cal_pickle.p'):\n",
    "    #cv2.imwrite('camera_cal/test_cal.jpg', dst)\n",
    "    with open(cal_dir, mode='rb') as f:\n",
    "        file = pickle.load(f)    \n",
    "        mtx = file['mtx']\n",
    "    dist = file['dist']\n",
    "    dst = cv2.undistort(img, mtx, dist, None, mtx)\n",
    "    return dst\n",
    "undistort_img()\n",
    "img = cv2.imread('camera_cal/calibration1.jpg')\n",
    "dst = undistort(img) # Undistorted image\n"
   ]
  },
  {
   "cell_type": "code",
   "execution_count": null,
   "metadata": {},
   "outputs": [],
   "source": [
    "cv2.imshow('test', dst)"
   ]
  },
  {
   "cell_type": "code",
   "execution_count": 35,
   "metadata": {},
   "outputs": [
    {
     "data": {
      "text/plain": [
       "2049.5579918411986"
      ]
     },
     "execution_count": 35,
     "metadata": {},
     "output_type": "execute_result"
    }
   ],
   "source": [
    "import numpy as np\n",
    "import pandas as pd\n",
    "import cv2\n",
    "import os\n",
    "import glob\n",
    "import matplotlib.pyplot as plt\n",
    "import pickle\n",
    "import math\n",
    "\n",
    "# 定義點\n",
    "class Point:\n",
    "    def __init__(self,x=0,y=0):\n",
    "        self.x=x\n",
    "        self.y=y\n",
    "    def getx(self):\n",
    "        return self.x\n",
    "    def gety(self):\n",
    "        return self.y \n",
    "# get len \n",
    "class Getlen:\n",
    "    def __init__(self,p1,p2):\n",
    "        self.x=p1.getx()-p2.getx()\n",
    "        self.y=p1.gety()-p2.gety()\n",
    "        #用math.sqrt（）求平方根\n",
    "        self.len= math.sqrt((self.x**2)+(self.y**2))\n",
    "    def getlen(self):\n",
    "        return self.len\n",
    "\n",
    "def cal_focal():\n",
    "    img = cv2.imread('camera_cal/forcalLength_28.6_105.jpg')\n",
    "    gray = cv2.cvtColor(img, cv2.COLOR_BGR2GRAY)\n",
    "    \n",
    "    ret, corners = cv2.findChessboardCorners(gray, (9,6), None)\n",
    "    if ret == True:\n",
    "        print('corners ', len(corners))\n",
    "        \n",
    "    for index, point in enumerate(corners):\n",
    "        tmp = (point[0][0], point[0][1])\n",
    "        cv2.circle(img, tmp, 30, (0, 0, 255), 4)\n",
    "\n",
    "    # 選取中間, 來計算焦距\n",
    "    corner = corners[18]\n",
    "    tmp1 = (corner[0][0], corner[0][1])\n",
    "    cv2.circle(img, tmp1, 30, (0, 255, 0), 4)\n",
    "\n",
    "    corner = corners[18+8]\n",
    "    tmp2 = (corner[0][0], corner[0][1])\n",
    "    cv2.circle(img, tmp2, 30, (0, 255, 0), 4)\n",
    "\n",
    "\n",
    "    cv2.imwrite('camera_cal/chessboard_focallength.jpg', img)\n",
    "     \n",
    "    p1=Point(tmp1[0], tmp1[1])\n",
    "    p2=Point(tmp2[0], tmp2[1])\n",
    "    l=Getlen(p1,p2)\n",
    "    \n",
    "    dist = l.getlen()\n",
    "\n",
    "    focalLength = (dist * 105) / 28.6\n",
    "\n",
    "    print('focalLength', focalLength)\n",
    "\n",
    "    pickle.dump(focalLength, open('camera_cal/focallength.p', 'wb'))\n",
    "\n",
    "def get_focaLength():\n",
    "    return pickle.load(open('camera_cal/focallength.p', mode='rb'))\n",
    "\n",
    "# cal_focal()\n",
    "# get_focaLength()"
   ]
  },
  {
   "cell_type": "code",
   "execution_count": null,
   "metadata": {},
   "outputs": [],
   "source": []
  },
  {
   "cell_type": "code",
   "execution_count": 33,
   "metadata": {},
   "outputs": [
    {
     "name": "stdout",
     "output_type": "stream",
     "text": [
      "747.8584 361.47598\n",
      "1306.0 373.0\n",
      "558.260557777698\n",
      "2049.5579918411986\n"
     ]
    }
   ],
   "source": [
    "import numpy as np\n",
    "\n",
    "#导入math包\n",
    "\n",
    "#定义点的函数\n",
    "class Point:\n",
    "    def __init__(self,x=0,y=0):\n",
    "        self.x=x\n",
    "        self.y=y\n",
    "    def getx(self):\n",
    "        return self.x\n",
    "    def gety(self):\n",
    "        return self.y \n",
    "#定义直线函数   \n",
    "class Getlen:\n",
    "    def __init__(self,p1,p2):\n",
    "        self.x=p1.getx()-p2.getx()\n",
    "        self.y=p1.gety()-p2.gety()\n",
    "        #用math.sqrt（）求平方根\n",
    "        self.len= math.sqrt((self.x**2)+(self.y**2))\n",
    "    #定义得到直线长度的函数\n",
    "    def getlen(self):\n",
    "        return self.len\n",
    "\n",
    "\n",
    "\n",
    "img = cv2.imread('camera_cal/forcalLength_28.6_105.jpg')\n",
    "\n",
    "for index, point in enumerate(corners):\n",
    "    tmp = (point[0][0], point[0][1])\n",
    "    cv2.circle(img, tmp, 30, (0, 0, 255), 4)\n",
    "\n",
    "corner = corners[18]\n",
    "tmp1 = (corner[0][0], corner[0][1])\n",
    "cv2.circle(img, tmp1, 30, (0, 255, 0), 4)\n",
    "\n",
    "corner = corners[18+8]\n",
    "tmp2 = (corner[0][0], corner[0][1])\n",
    "cv2.circle(img, tmp2, 30, (0, 255, 0), 4)\n",
    "\n",
    "\n",
    "cv2.imwrite('output.jpg', img)\n",
    "\n",
    "\n",
    "#设置点p1的坐标为（0,0）       \n",
    "p1=Point(tmp1[0], tmp1[1])\n",
    "p2=Point(tmp2[0], tmp2[1])\n",
    "l=Getlen(p1,p2)\n",
    "#获取两点之间直线的长度\n",
    "print(p1.x, p1.y)\n",
    "print(p2.x, p2.y)\n",
    "dist = l.getlen()\n",
    "\n",
    "focalLength = (dist * 105) / 28.6\n",
    "\n",
    "print(dist)\n",
    "print(focalLength)\n"
   ]
  },
  {
   "cell_type": "code",
   "execution_count": 6,
   "metadata": {},
   "outputs": [
    {
     "ename": "NameError",
     "evalue": "name 'nan' is not defined",
     "output_type": "error",
     "traceback": [
      "\u001b[0;31m---------------------------------------------------------------------------\u001b[0m",
      "\u001b[0;31mNameError\u001b[0m                                 Traceback (most recent call last)",
      "\u001b[0;32m<ipython-input-6-83583ed79ba4>\u001b[0m in \u001b[0;36m<module>\u001b[0;34m\u001b[0m\n\u001b[1;32m      3\u001b[0m \u001b[0mcandidate\u001b[0m \u001b[0;34m=\u001b[0m \u001b[0;34m[\u001b[0m\u001b[0;34m(\u001b[0m\u001b[0;34m(\u001b[0m\u001b[0;36m787\u001b[0m\u001b[0;34m,\u001b[0m \u001b[0;36m690\u001b[0m\u001b[0;34m)\u001b[0m\u001b[0;34m,\u001b[0m \u001b[0;34m(\u001b[0m\u001b[0;36m913\u001b[0m\u001b[0;34m,\u001b[0m \u001b[0;36m690\u001b[0m\u001b[0;34m)\u001b[0m\u001b[0;34m,\u001b[0m \u001b[0;34m(\u001b[0m\u001b[0;36m913\u001b[0m\u001b[0;34m,\u001b[0m \u001b[0;36m787\u001b[0m\u001b[0;34m)\u001b[0m\u001b[0;34m,\u001b[0m \u001b[0;34m(\u001b[0m\u001b[0;36m787\u001b[0m\u001b[0;34m,\u001b[0m \u001b[0;36m787\u001b[0m\u001b[0;34m)\u001b[0m\u001b[0;34m)\u001b[0m\u001b[0;34m]\u001b[0m\u001b[0;34m\u001b[0m\u001b[0m\n\u001b[1;32m      4\u001b[0m \u001b[0;34m\u001b[0m\u001b[0m\n\u001b[0;32m----> 5\u001b[0;31m \u001b[0mcandidate\u001b[0m \u001b[0;34m=\u001b[0m \u001b[0;34m[\u001b[0m\u001b[0;34m(\u001b[0m\u001b[0mnan\u001b[0m\u001b[0;34m)\u001b[0m\u001b[0;34m]\u001b[0m\u001b[0;34m\u001b[0m\u001b[0m\n\u001b[0m\u001b[1;32m      6\u001b[0m \u001b[0;34m\u001b[0m\u001b[0m\n\u001b[1;32m      7\u001b[0m \u001b[0;32mfor\u001b[0m \u001b[0mtmp\u001b[0m \u001b[0;32min\u001b[0m \u001b[0mcandidate\u001b[0m \u001b[0;34m:\u001b[0m\u001b[0;34m\u001b[0m\u001b[0m\n",
      "\u001b[0;31mNameError\u001b[0m: name 'nan' is not defined"
     ]
    }
   ],
   "source": [
    "import cv2\n",
    "img = cv2.imread('/home/sheldon/Project/AIA_Capture/JT081_01_AIcapture/debug1.jpg')\n",
    "candidate = [((787, 690), (913, 690), (913, 787), (787, 787))]\n",
    "\n",
    "for tmp in candidate : \n",
    "    print('XXX')\n",
    "    startX = tmp[0][0]\n",
    "    startY = tmp[0][1]\n",
    "    \n",
    "    if startX < 0:\n",
    "        startX = 0\n",
    "    if startY < 0:\n",
    "        startY = 0\n",
    "    \n",
    "    lenX = tmp[1][0]-startX\n",
    "    lenY = tmp[3][1]-startY\n",
    "    img[startY:startY+lenY, startX:startX+lenX] = 0 \n",
    "\n",
    "cv2.imwrite('sheldon2.jpg', img)\n",
    "    \n",
    "    "
   ]
  },
  {
   "cell_type": "code",
   "execution_count": 6,
   "metadata": {},
   "outputs": [],
   "source": [
    "a = [[[ 947.2    ,1080.    ],\n",
    "  [1484.7999 ,1080.    ],\n",
    "  [ 256.     ,1440.    ],\n",
    "  [2560.     ,1440.    ],]]\n"
   ]
  },
  {
   "cell_type": "code",
   "execution_count": 16,
   "metadata": {},
   "outputs": [
    {
     "ename": "IndexError",
     "evalue": "list index out of range",
     "output_type": "error",
     "traceback": [
      "\u001b[0;31m---------------------------------------------------------------------------\u001b[0m",
      "\u001b[0;31mIndexError\u001b[0m                                Traceback (most recent call last)",
      "\u001b[0;32m<ipython-input-16-b2ab86c15aef>\u001b[0m in \u001b[0;36m<module>\u001b[0;34m\u001b[0m\n\u001b[0;32m----> 1\u001b[0;31m \u001b[0ma\u001b[0m\u001b[0;34m[\u001b[0m\u001b[0;36m1\u001b[0m\u001b[0;34m]\u001b[0m\u001b[0;34m[\u001b[0m\u001b[0;36m0\u001b[0m\u001b[0;34m]\u001b[0m\u001b[0;34m[\u001b[0m\u001b[0;36m1\u001b[0m\u001b[0;34m]\u001b[0m\u001b[0;34m\u001b[0m\u001b[0m\n\u001b[0m",
      "\u001b[0;31mIndexError\u001b[0m: list index out of range"
     ]
    }
   ],
   "source": [
    "a[1][0][1]"
   ]
  },
  {
   "cell_type": "code",
   "execution_count": 20,
   "metadata": {},
   "outputs": [
    {
     "name": "stdout",
     "output_type": "stream",
     "text": [
      "(555, 1091)\n"
     ]
    }
   ],
   "source": [
    "import numpy as np\n",
    "a = [np.nan, [(555, 1091), (606, 1096), (604, 1123), (553, 1117)]]\n",
    "for index, tmp in enumerate(a):\n",
    "    if tmp is not np.nan:\n",
    "        print(tmp[0])"
   ]
  },
  {
   "cell_type": "code",
   "execution_count": null,
   "metadata": {},
   "outputs": [],
   "source": []
  }
 ],
 "metadata": {
  "kernelspec": {
   "display_name": "Python 3",
   "language": "python",
   "name": "python3"
  },
  "language_info": {
   "codemirror_mode": {
    "name": "ipython",
    "version": 3
   },
   "file_extension": ".py",
   "mimetype": "text/x-python",
   "name": "python",
   "nbconvert_exporter": "python",
   "pygments_lexer": "ipython3",
   "version": "3.5.2"
  }
 },
 "nbformat": 4,
 "nbformat_minor": 2
}
