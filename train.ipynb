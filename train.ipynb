{
 "cells": [
  {
   "cell_type": "code",
   "execution_count": 1,
   "metadata": {},
   "outputs": [],
   "source": [
    "import warnings\n",
    "warnings.filterwarnings('ignore')\n",
    "import pandas as pd\n",
    "import glob\n",
    "from sklearn.metrics import roc_curve, auc"
   ]
  },
  {
   "cell_type": "code",
   "execution_count": null,
   "metadata": {},
   "outputs": [
    {
     "name": "stdout",
     "output_type": "stream",
     "text": [
      "result/data_set/FILE190812-134902F.csv\n",
      "result/data_set/FILE190811-115845F.csv\n",
      "result/data_set/FILE190810-110332F.csv\n"
     ]
    }
   ],
   "source": [
    "# Merge excel file \n",
    "# for index, file in enumerate(glob.glob(\"result/data_set/*.csv\")):\n",
    "#     print(index, file)\n",
    "\n",
    "framereate = 30 # fps\n",
    "for index, file in enumerate(glob.glob(\"result/data_set/*.csv\")):\n",
    "    print(file)\n",
    "    name = file[15:34]\n",
    "    dataset = pd.read_csv(file)\n",
    "    dataset = dataset.drop(columns=['Unnamed: 0', 'safe_zone_p0_x','safe_zone_p0_y','safe_zone_p1_x','safe_zone_p1_y','safe_zone_p2_x','safe_zone_p2_y','safe_zone_p3_x','safe_zone_p3_y'])\n",
    "    \n",
    "    # 6/30 = 0.2 ms\n",
    "    # new_columns = ['frame_cnt', 'self_speed', 'detected_car_nums', 'short_distance_car_p0_x',\n",
    "    #        'short_distance_car_p0_y', 'short_distance_car_p1_x',\n",
    "    #        'short_distance_car_p1_y', 'short_distance_car_p2_x',\n",
    "    #        'short_distance_car_p2_y', 'short_distance_car_p3_x',\n",
    "    #        'short_distance_car_p3_y',\n",
    "    #        'self_speed2', 'detected_car_nums2', 'short_distance_car_p0_x2',\n",
    "    #        'short_distance_car_p0_y2', 'short_distance_car_p1_x2',\n",
    "    #        'short_distance_car_p1_y2', 'short_distance_car_p2_x2',\n",
    "    #        'short_distance_car_p2_y2', 'short_distance_car_p3_x2',\n",
    "    #        'short_distance_car_p3_y2',\n",
    "    #        'self_speed3', 'detected_car_nums3', 'short_distance_car_p0_x3',\n",
    "    #        'short_distance_car_p0_y3', 'short_distance_car_p1_x3',\n",
    "    #        'short_distance_car_p1_y3', 'short_distance_car_p2_x3',\n",
    "    #        'short_distance_car_p2_y3', 'short_distance_car_p3_x3',\n",
    "    #        'short_distance_car_p3_y3',\n",
    "    #        'self_speed4', 'detected_car_nums4', 'short_distance_car_p0_x4',\n",
    "    #        'short_distance_car_p0_y4', 'short_distance_car_p1_x4',\n",
    "    #        'short_distance_car_p1_y4', 'short_distance_car_p2_x4',\n",
    "    #        'short_distance_car_p2_y4', 'short_distance_car_p3_x4',\n",
    "    #        'short_distance_car_p3_y4',\n",
    "    #        'self_speed5', 'detected_car_nums5', 'short_distance_car_p0_x5',\n",
    "    #        'short_distance_car_p0_y5', 'short_distance_car_p1_x5',\n",
    "    #        'short_distance_car_p1_y5', 'short_distance_car_p2_x5',\n",
    "    #        'short_distance_car_p2_y5', 'short_distance_car_p3_x5',\n",
    "    #        'short_distance_car_p3_y5','label'\n",
    "    #               ],\n",
    "\n",
    "    df = pd.DataFrame()\n",
    "\n",
    "    for index in range(0, len(dataset)-30*2): # 2 secoonds\n",
    "        temp0 = dataset.iloc[0*12+index, :]\n",
    "        temp0 = temp0.drop('label')\n",
    "\n",
    "        temp1 = dataset.iloc[1*12+index, :]\n",
    "        temp1 = temp1.drop('label')\n",
    "\n",
    "        temp1 = temp1.rename({'frame_cnt'        :'frame_cnt_1', \n",
    "            'self_speed'             :'self_speed_1', \n",
    "            'detected_car_nums'      :'detected_car_nums_1', \n",
    "            'short_distance_car_p0_x':'short_distance_car_p0_x_1',\n",
    "            'short_distance_car_p0_y':'short_distance_car_p0_y_1', \n",
    "            'short_distance_car_p1_x':'short_distance_car_p1_x_1',\n",
    "            'short_distance_car_p1_y':'short_distance_car_p1_y_1',\n",
    "            'short_distance_car_p2_x':'short_distance_car_p2_x_1',\n",
    "            'short_distance_car_p2_y':'short_distance_car_p2_y_1',\n",
    "            'short_distance_car_p3_x':'short_distance_car_p3_x_1',\n",
    "            'short_distance_car_p3_y':'short_distance_car_p3_y_1'})\n",
    "\n",
    "        temp1 = temp0.combine(temp1, max, fill_value=-1)\n",
    "\n",
    "        temp2 = dataset.iloc[2*12+index, :]\n",
    "        temp2 = temp2.drop('label')\n",
    "        temp2 = temp2.rename({'frame_cnt'        :'frame_cnt_2', \n",
    "            'self_speed'             :'self_speed_2', \n",
    "            'detected_car_nums'      :'detected_car_nums_2', \n",
    "            'short_distance_car_p0_x':'short_distance_car_p0_x_2',\n",
    "            'short_distance_car_p0_y':'short_distance_car_p0_y_2', \n",
    "            'short_distance_car_p1_x':'short_distance_car_p1_x_2',\n",
    "            'short_distance_car_p1_y':'short_distance_car_p1_y_2',\n",
    "            'short_distance_car_p2_x':'short_distance_car_p2_x_2',\n",
    "            'short_distance_car_p2_y':'short_distance_car_p2_y_2',\n",
    "            'short_distance_car_p3_x':'short_distance_car_p3_x_2',\n",
    "            'short_distance_car_p3_y':'short_distance_car_p3_y_2'})\n",
    "\n",
    "        temp2 = temp1.combine(temp2, max, fill_value=-1)\n",
    "\n",
    "        temp3 = dataset.iloc[3*12+index, :]\n",
    "        temp3 = temp3.drop('label')\n",
    "        temp3 = temp3.rename({'frame_cnt'        :'frame_cnt_3', \n",
    "            'self_speed'             :'self_speed_3', \n",
    "            'detected_car_nums'      :'detected_car_nums_3', \n",
    "            'short_distance_car_p0_x':'short_distance_car_p0_x_3',\n",
    "            'short_distance_car_p0_y':'short_distance_car_p0_y_3', \n",
    "            'short_distance_car_p1_x':'short_distance_car_p1_x_3',\n",
    "            'short_distance_car_p1_y':'short_distance_car_p1_y_3',\n",
    "            'short_distance_car_p2_x':'short_distance_car_p2_x_3',\n",
    "            'short_distance_car_p2_y':'short_distance_car_p2_y_3',\n",
    "            'short_distance_car_p3_x':'short_distance_car_p3_x_3',\n",
    "            'short_distance_car_p3_y':'short_distance_car_p3_y_3'})\n",
    "\n",
    "        temp3 = temp2.combine(temp3, max, fill_value=-1)\n",
    "\n",
    "        temp4 = dataset.iloc[4*12+index, :]\n",
    "        # temp4 = temp4.drop('label')\n",
    "        temp4 = temp4.rename({'frame_cnt'        :'frame_cnt_4', \n",
    "            'self_speed'             :'self_speed_4', \n",
    "            'detected_car_nums'      :'detected_car_nums_4', \n",
    "            'short_distance_car_p0_x':'short_distance_car_p0_x_4',\n",
    "            'short_distance_car_p0_y':'short_distance_car_p0_y_4', \n",
    "            'short_distance_car_p1_x':'short_distance_car_p1_x_4',\n",
    "            'short_distance_car_p1_y':'short_distance_car_p1_y_4',\n",
    "            'short_distance_car_p2_x':'short_distance_car_p2_x_4',\n",
    "            'short_distance_car_p2_y':'short_distance_car_p2_y_4',\n",
    "            'short_distance_car_p3_x':'short_distance_car_p3_x_4',\n",
    "            'short_distance_car_p3_y':'short_distance_car_p3_y_4'})\n",
    "\n",
    "        temp4 = temp3.combine(temp4, max, fill_value=-1)\n",
    "\n",
    "        column= []\n",
    "        data = []\n",
    "        for i in range(len(temp4)):\n",
    "            column.append(temp4.index[i])\n",
    "            data.append(temp4[i])\n",
    "\n",
    "        data = [tuple(data)]\n",
    "        df_temp = pd.DataFrame(data, columns=column)\n",
    "        df = df.append(df_temp)\n",
    "        \n",
    "    df.to_csv(\"result/merge_data_set/{0}.csv\".format(name), index = False)\n",
    "\n"
   ]
  },
  {
   "cell_type": "code",
   "execution_count": null,
   "metadata": {},
   "outputs": [],
   "source": [
    "import glob\n",
    "import pandas as pd\n",
    "\n",
    "df = pd.DataFrame()\n",
    "for index, file in enumerate(glob.glob(\"result/merge_data_set/*.csv\")):\n",
    "    dataset = pd.read_csv(file)\n",
    "    df = df.append(dataset)\n",
    "df.to_csv(\"result/merge_data_set/merge.csv\", index = False)"
   ]
  },
  {
   "cell_type": "code",
   "execution_count": 4,
   "metadata": {},
   "outputs": [
    {
     "data": {
      "text/plain": [
       "0.9937888198757764"
      ]
     },
     "execution_count": 4,
     "metadata": {},
     "output_type": "execute_result"
    }
   ],
   "source": [
    "320/322\n"
   ]
  },
  {
   "cell_type": "code",
   "execution_count": null,
   "metadata": {},
   "outputs": [],
   "source": [
    "from sklearn import preprocessing\n",
    "from sklearn.metrics import accuracy_score\n",
    "from sklearn.ensemble import RandomForestClassifier\n",
    "from sklearn.model_selection import train_test_split\n",
    "import matplotlib.pyplot as plt\n",
    "import pandas as pd\n",
    "from sklearn.metrics import confusion_matrix\n",
    "%matplotlib inline\n"
   ]
  },
  {
   "cell_type": "code",
   "execution_count": 2,
   "metadata": {},
   "outputs": [
    {
     "data": {
      "text/plain": [
       "0.07777777777777778"
      ]
     },
     "execution_count": 2,
     "metadata": {},
     "output_type": "execute_result"
    }
   ],
   "source": [
    "7/90"
   ]
  },
  {
   "cell_type": "code",
   "execution_count": 212,
   "metadata": {},
   "outputs": [],
   "source": [
    "dataset = pd.read_csv(\"result/merge_data_set/merge.csv\")\n",
    "\n",
    "labels = dataset['label']\n",
    "df = dataset.drop(columns=['label'])\n",
    "\n",
    "\n",
    "random_seed = 5 # set seed for same train test data split\n",
    "x_train, x_test, y_train, y_test = train_test_split(df, labels,\n",
    "                                                    random_state=random_seed,\n",
    "                                                   )\n"
   ]
  },
  {
   "cell_type": "code",
   "execution_count": 226,
   "metadata": {},
   "outputs": [
    {
     "data": {
      "text/plain": [
       "RandomForestClassifier(bootstrap=True, class_weight=None, criterion='gini',\n",
       "            max_depth=None, max_features='auto', max_leaf_nodes=None,\n",
       "            min_impurity_decrease=0.0, min_impurity_split=None,\n",
       "            min_samples_leaf=1, min_samples_split=2,\n",
       "            min_weight_fraction_leaf=0.0, n_estimators=350, n_jobs=1,\n",
       "            oob_score=False, random_state=None, verbose=0,\n",
       "            warm_start=False)"
      ]
     },
     "execution_count": 226,
     "metadata": {},
     "output_type": "execute_result"
    }
   ],
   "source": [
    "clf = RandomForestClassifier(n_estimators=350)\n",
    "clf.fit(x_train, y_train)"
   ]
  },
  {
   "cell_type": "code",
   "execution_count": 227,
   "metadata": {},
   "outputs": [
    {
     "data": {
      "text/plain": [
       "0.9994289793004997"
      ]
     },
     "execution_count": 227,
     "metadata": {},
     "output_type": "execute_result"
    }
   ],
   "source": [
    "# Prediction by locao data\n",
    "y_pred = clf.predict(x_test)\n",
    "accuracy_score(y_test, y_pred)\n",
    "#print(df_result[\"class\"])"
   ]
  },
  {
   "cell_type": "code",
   "execution_count": 228,
   "metadata": {},
   "outputs": [
    {
     "name": "stdout",
     "output_type": "stream",
     "text": [
      "[[13123     0     0]\n",
      " [    0   796     1]\n",
      " [    0     7    83]]\n"
     ]
    }
   ],
   "source": [
    "confustion_matrix = confusion_matrix(y_test, y_pred)\n",
    "print(confustion_matrix)"
   ]
  },
  {
   "cell_type": "code",
   "execution_count": 235,
   "metadata": {},
   "outputs": [
    {
     "data": {
      "image/png": "[encoded data removed]",
      "text/plain": [
       "<Figure size 432x288 with 1 Axes>"
      ]
     },
     "metadata": {
      "needs_background": "light"
     },
     "output_type": "display_data"
    }
   ],
   "source": [
    "# ROC\n",
    "roc_y_test = y_test\n",
    "roc_y_test[roc_y_test == 1]=0\n",
    "roc_y_test[roc_y_test == 2]=1\n",
    "\n",
    "roc_y_pred = y_pred\n",
    "roc_y_pred[roc_y_pred == 1]=0\n",
    "roc_y_pred[roc_y_pred == 2]=1\n",
    "\n",
    "\n",
    "fpr, tpr, _ = roc_curve(y_test, y_pred)\n",
    "roc_auc = auc(fpr, tpr)\n",
    "\n",
    "import matplotlib as mpl\n",
    "#mpl.use('Agg')\n",
    "import matplotlib.pyplot as plt\n",
    "\n",
    "fig = plt.figure()\n",
    "lw = 2\n",
    "plt.plot(fpr, tpr, color='darkorange', lw=lw, label='ROC curve (area = %0.2f)' % roc_auc)\n",
    "plt.plot([0, 1], [0, 1], color='navy', lw=lw, linestyle='--')\n",
    "plt.xlim([0.0, 1.0])\n",
    "plt.ylim([0.0, 1.05])\n",
    "plt.xlabel('False Positive Rate')\n",
    "plt.ylabel('True Positive Rate')\n",
    "plt.title('Receiver operating characteristic example')\n",
    "plt.legend(loc=\"lower right\")\n",
    "#fig.savefig('/tmp/roc.png')\n",
    "plt.show()"
   ]
  },
  {
   "cell_type": "code",
   "execution_count": null,
   "metadata": {},
   "outputs": [],
   "source": []
  }
 ],
 "metadata": {
  "kernelspec": {
   "display_name": "Python 3",
   "language": "python",
   "name": "python3"
  },
  "language_info": {
   "codemirror_mode": {
    "name": "ipython",
    "version": 3
   },
   "file_extension": ".py",
   "mimetype": "text/x-python",
   "name": "python",
   "nbconvert_exporter": "python",
   "pygments_lexer": "ipython3",
   "version": "3.6.6"
  }
 },
 "nbformat": 4,
 "nbformat_minor": 2
}
